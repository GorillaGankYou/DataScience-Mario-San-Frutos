{
 "cells": [
  {
   "cell_type": "markdown",
   "id": "c5de50cd-9a0e-489a-8180-5a781acbda2c",
   "metadata": {},
   "source": [
    "# Data Science Tools and Ecosystem"
   ]
  },
  {
   "cell_type": "markdown",
   "id": "27dc4b80-735b-43f0-869e-aecaca648da5",
   "metadata": {},
   "source": [
    "In this notebook, Data Science Tools and Ecosystem are summarized."
   ]
  },
  {
   "cell_type": "markdown",
   "id": "1a4d654f-8115-4f61-b523-b8cea15bc03f",
   "metadata": {},
   "source": [
    "**Objectives**\n",
    "Languages for Data science, commonly libraries, introduction to python code, data science environments"
   ]
  },
  {
   "cell_type": "markdown",
   "id": "088baf56-70a3-4025-9656-33eaea970cae",
   "metadata": {},
   "source": [
    "Some of the popular languages that Data Scientists use are:\n",
    " \n",
    "1. Python  \n",
    "2. Java  \n",
    "3. R  \n",
    "4. SQL  "
   ]
  },
  {
   "cell_type": "markdown",
   "id": "d129b755-528d-4db4-a2aa-8e86b9369c04",
   "metadata": {},
   "source": [
    "Some of the commonly used libraries used by Data Scientists include:\n",
    "\n",
    "1. Pandas\n",
    "2. Keras \n",
    "3. Numpy"
   ]
  },
  {
   "cell_type": "markdown",
   "id": "25a9b885-baa1-475c-8fae-1afe9bdb37a0",
   "metadata": {},
   "source": [
    "|Data Science Tools|\n",
    "---\n",
    "|Jupyter Notebooks|\n",
    "|R studios|\n",
    "|Watson studios|\n"
   ]
  },
  {
   "cell_type": "markdown",
   "id": "ef718700-b6a4-4d9b-a585-42fa4da79bbe",
   "metadata": {},
   "source": [
    "### Below are a few examples of evaluating arithmetic expressions in Python"
   ]
  },
  {
   "cell_type": "markdown",
   "id": "8a948839-c146-4805-92c2-2ab511298f7d",
   "metadata": {},
   "source": [
    "This a simple arithmetic expression to mutiply then add integers"
   ]
  },
  {
   "cell_type": "code",
   "execution_count": 3,
   "id": "2e71d9b0-d4a6-4358-a011-52585070bbb3",
   "metadata": {},
   "outputs": [
    {
     "data": {
      "text/plain": [
       "17"
      ]
     },
     "execution_count": 3,
     "metadata": {},
     "output_type": "execute_result"
    }
   ],
   "source": [
    "(3*4)+5"
   ]
  },
  {
   "cell_type": "markdown",
   "id": "742f0d0c-317a-4ca2-88d1-eadb0ee25d7e",
   "metadata": {},
   "source": [
    "This will convert 200 minutes to hours by diving by 60"
   ]
  },
  {
   "cell_type": "code",
   "execution_count": 5,
   "id": "4d04703a-d611-4908-b116-0072701c33e8",
   "metadata": {},
   "outputs": [
    {
     "data": {
      "text/plain": [
       "3.3333333333333335"
      ]
     },
     "execution_count": 5,
     "metadata": {},
     "output_type": "execute_result"
    }
   ],
   "source": [
    "200/60"
   ]
  },
  {
   "cell_type": "markdown",
   "id": "2a3b3e76-7395-4aef-9f66-ba09110d386e",
   "metadata": {},
   "source": [
    "## Author \n",
    "Mario San Frutos Forja"
   ]
  },
  {
   "cell_type": "code",
   "execution_count": null,
   "id": "20ca3499-b911-48e9-a916-5232eaea98a4",
   "metadata": {},
   "outputs": [],
   "source": []
  }
 ],
 "metadata": {
  "kernelspec": {
   "display_name": "Python",
   "language": "python",
   "name": "conda-env-python-py"
  },
  "language_info": {
   "codemirror_mode": {
    "name": "ipython",
    "version": 3
   },
   "file_extension": ".py",
   "mimetype": "text/x-python",
   "name": "python",
   "nbconvert_exporter": "python",
   "pygments_lexer": "ipython3",
   "version": "3.7.12"
  }
 },
 "nbformat": 4,
 "nbformat_minor": 5
}
